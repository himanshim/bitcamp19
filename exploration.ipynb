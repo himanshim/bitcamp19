{
 "cells": [
  {
   "cell_type": "code",
   "execution_count": 1,
   "metadata": {},
   "outputs": [],
   "source": [
    "# standard includes\n",
    "import pandas as pd\n",
    "import numpy as np\n",
    "import matplotlib.pyplot as plt\n",
    "\n",
    "%matplotlib inline"
   ]
  },
  {
   "cell_type": "code",
   "execution_count": 2,
   "metadata": {},
   "outputs": [],
   "source": [
    "df = pd.read_csv(\"Creps.csv\")"
   ]
  },
  {
   "cell_type": "code",
   "execution_count": 3,
   "metadata": {},
   "outputs": [
    {
     "data": {
      "text/html": [
       "<div>\n",
       "<style scoped>\n",
       "    .dataframe tbody tr th:only-of-type {\n",
       "        vertical-align: middle;\n",
       "    }\n",
       "\n",
       "    .dataframe tbody tr th {\n",
       "        vertical-align: top;\n",
       "    }\n",
       "\n",
       "    .dataframe thead th {\n",
       "        text-align: right;\n",
       "    }\n",
       "</style>\n",
       "<table border=\"1\" class=\"dataframe\">\n",
       "  <thead>\n",
       "    <tr style=\"text-align: right;\">\n",
       "      <th></th>\n",
       "      <th>Unnamed: 0</th>\n",
       "      <th>BrnchOfLoc_city</th>\n",
       "      <th>BrnchOfLoc_cntry</th>\n",
       "      <th>BrnchOfLoc_postlCd</th>\n",
       "      <th>BrnchOfLoc_state</th>\n",
       "      <th>BrnchOfLoc_str1</th>\n",
       "      <th>BrnchOfLoc_str2</th>\n",
       "      <th>CrntEmp_city</th>\n",
       "      <th>CrntEmp_cntry</th>\n",
       "      <th>CrntEmp_orgNm</th>\n",
       "      <th>...</th>\n",
       "      <th>Info_sufNm</th>\n",
       "      <th>OthrBus_desc</th>\n",
       "      <th>OthrNm_firstNm</th>\n",
       "      <th>OthrNm_lastNm</th>\n",
       "      <th>OthrNm_midNm</th>\n",
       "      <th>OthrNm_sufNm</th>\n",
       "      <th>PrevRgstn_orgNm</th>\n",
       "      <th>PrevRgstn_orgPK</th>\n",
       "      <th>PrevRgstn_regBeginDt</th>\n",
       "      <th>PrevRgstn_regEndDt</th>\n",
       "    </tr>\n",
       "  </thead>\n",
       "  <tbody>\n",
       "    <tr>\n",
       "      <th>0</th>\n",
       "      <td>0</td>\n",
       "      <td>CHICAGO</td>\n",
       "      <td>NaN</td>\n",
       "      <td>NaN</td>\n",
       "      <td>IL</td>\n",
       "      <td>NaN</td>\n",
       "      <td>NaN</td>\n",
       "      <td>NEW YORK</td>\n",
       "      <td>United States</td>\n",
       "      <td>MERRILL LYNCH, PIERCE, FENNER &amp; SMITH INCORPOR...</td>\n",
       "      <td>...</td>\n",
       "      <td>NaN</td>\n",
       "      <td>NaN</td>\n",
       "      <td>JENNIFER</td>\n",
       "      <td>FAJURI</td>\n",
       "      <td>ANNE</td>\n",
       "      <td>NaN</td>\n",
       "      <td>MORGAN STANLEY</td>\n",
       "      <td>149777.0</td>\n",
       "      <td>2012-10-17</td>\n",
       "      <td>2013-05-02</td>\n",
       "    </tr>\n",
       "    <tr>\n",
       "      <th>1</th>\n",
       "      <td>1</td>\n",
       "      <td>KENT</td>\n",
       "      <td>United States</td>\n",
       "      <td>98030</td>\n",
       "      <td>WA</td>\n",
       "      <td>24909 104TH AVE S E SUITE 100</td>\n",
       "      <td>NaN</td>\n",
       "      <td>ST. LOUIS</td>\n",
       "      <td>United States</td>\n",
       "      <td>EDWARD JONES</td>\n",
       "      <td>...</td>\n",
       "      <td>NaN</td>\n",
       "      <td>NaN</td>\n",
       "      <td>Zach</td>\n",
       "      <td>Baggenstos</td>\n",
       "      <td>Daniel</td>\n",
       "      <td>NaN</td>\n",
       "      <td>NaN</td>\n",
       "      <td>NaN</td>\n",
       "      <td>NaN</td>\n",
       "      <td>NaN</td>\n",
       "    </tr>\n",
       "    <tr>\n",
       "      <th>2</th>\n",
       "      <td>2</td>\n",
       "      <td>NEW YORK</td>\n",
       "      <td>NaN</td>\n",
       "      <td>NaN</td>\n",
       "      <td>NY</td>\n",
       "      <td>NaN</td>\n",
       "      <td>NaN</td>\n",
       "      <td>NEW YORK</td>\n",
       "      <td>United States</td>\n",
       "      <td>AXA ADVISORS, LLC</td>\n",
       "      <td>...</td>\n",
       "      <td>NaN</td>\n",
       "      <td>NaN</td>\n",
       "      <td>JAMES</td>\n",
       "      <td>MASSEY</td>\n",
       "      <td>D</td>\n",
       "      <td>NaN</td>\n",
       "      <td>E*TRADE CAPITAL MANAGEMENT, LLC</td>\n",
       "      <td>42159.0</td>\n",
       "      <td>2013-07-10</td>\n",
       "      <td>2016-03-24</td>\n",
       "    </tr>\n",
       "    <tr>\n",
       "      <th>3</th>\n",
       "      <td>3</td>\n",
       "      <td>TAMPA</td>\n",
       "      <td>United States</td>\n",
       "      <td>33618</td>\n",
       "      <td>FL</td>\n",
       "      <td>14497 N DALE MABRY HWY</td>\n",
       "      <td>STE 240-Y</td>\n",
       "      <td>DULUTH</td>\n",
       "      <td>United States</td>\n",
       "      <td>PFS INVESTMENTS INC.</td>\n",
       "      <td>...</td>\n",
       "      <td>NaN</td>\n",
       "      <td>SALES OF INVESTMENT-RELATED PRODUCTS, PART-TIM...</td>\n",
       "      <td>TYLER</td>\n",
       "      <td>ZIMMERLY</td>\n",
       "      <td>ETHAN</td>\n",
       "      <td>NaN</td>\n",
       "      <td>NaN</td>\n",
       "      <td>NaN</td>\n",
       "      <td>NaN</td>\n",
       "      <td>NaN</td>\n",
       "    </tr>\n",
       "    <tr>\n",
       "      <th>4</th>\n",
       "      <td>4</td>\n",
       "      <td>DUNEDIN</td>\n",
       "      <td>New Zealand</td>\n",
       "      <td>9016</td>\n",
       "      <td>NaN</td>\n",
       "      <td>330 MORAY PLACE</td>\n",
       "      <td>NaN</td>\n",
       "      <td>DORADO</td>\n",
       "      <td>United States</td>\n",
       "      <td>EURO PACIFIC ASSET MANAGEMENT, LLC</td>\n",
       "      <td>...</td>\n",
       "      <td>NaN</td>\n",
       "      <td>NaN</td>\n",
       "      <td>NaN</td>\n",
       "      <td>NaN</td>\n",
       "      <td>NaN</td>\n",
       "      <td>NaN</td>\n",
       "      <td>NaN</td>\n",
       "      <td>NaN</td>\n",
       "      <td>NaN</td>\n",
       "      <td>NaN</td>\n",
       "    </tr>\n",
       "  </tbody>\n",
       "</table>\n",
       "<p>5 rows × 53 columns</p>\n",
       "</div>"
      ],
      "text/plain": [
       "   Unnamed: 0 BrnchOfLoc_city BrnchOfLoc_cntry BrnchOfLoc_postlCd  \\\n",
       "0           0         CHICAGO              NaN                NaN   \n",
       "1           1            KENT    United States              98030   \n",
       "2           2        NEW YORK              NaN                NaN   \n",
       "3           3           TAMPA    United States              33618   \n",
       "4           4         DUNEDIN      New Zealand               9016   \n",
       "\n",
       "  BrnchOfLoc_state                BrnchOfLoc_str1 BrnchOfLoc_str2  \\\n",
       "0               IL                            NaN             NaN   \n",
       "1               WA  24909 104TH AVE S E SUITE 100             NaN   \n",
       "2               NY                            NaN             NaN   \n",
       "3               FL         14497 N DALE MABRY HWY       STE 240-Y   \n",
       "4              NaN                330 MORAY PLACE             NaN   \n",
       "\n",
       "  CrntEmp_city  CrntEmp_cntry  \\\n",
       "0     NEW YORK  United States   \n",
       "1    ST. LOUIS  United States   \n",
       "2     NEW YORK  United States   \n",
       "3       DULUTH  United States   \n",
       "4       DORADO  United States   \n",
       "\n",
       "                                       CrntEmp_orgNm        ...          \\\n",
       "0  MERRILL LYNCH, PIERCE, FENNER & SMITH INCORPOR...        ...           \n",
       "1                                       EDWARD JONES        ...           \n",
       "2                                  AXA ADVISORS, LLC        ...           \n",
       "3                               PFS INVESTMENTS INC.        ...           \n",
       "4                 EURO PACIFIC ASSET MANAGEMENT, LLC        ...           \n",
       "\n",
       "   Info_sufNm                                       OthrBus_desc  \\\n",
       "0         NaN                                                NaN   \n",
       "1         NaN                                                NaN   \n",
       "2         NaN                                                NaN   \n",
       "3         NaN  SALES OF INVESTMENT-RELATED PRODUCTS, PART-TIM...   \n",
       "4         NaN                                                NaN   \n",
       "\n",
       "  OthrNm_firstNm OthrNm_lastNm OthrNm_midNm OthrNm_sufNm  \\\n",
       "0       JENNIFER        FAJURI         ANNE          NaN   \n",
       "1           Zach    Baggenstos       Daniel          NaN   \n",
       "2          JAMES        MASSEY            D          NaN   \n",
       "3          TYLER      ZIMMERLY        ETHAN          NaN   \n",
       "4            NaN           NaN          NaN          NaN   \n",
       "\n",
       "                   PrevRgstn_orgNm PrevRgstn_orgPK PrevRgstn_regBeginDt  \\\n",
       "0                   MORGAN STANLEY        149777.0           2012-10-17   \n",
       "1                              NaN             NaN                  NaN   \n",
       "2  E*TRADE CAPITAL MANAGEMENT, LLC         42159.0           2013-07-10   \n",
       "3                              NaN             NaN                  NaN   \n",
       "4                              NaN             NaN                  NaN   \n",
       "\n",
       "  PrevRgstn_regEndDt  \n",
       "0         2013-05-02  \n",
       "1                NaN  \n",
       "2         2016-03-24  \n",
       "3                NaN  \n",
       "4                NaN  \n",
       "\n",
       "[5 rows x 53 columns]"
      ]
     },
     "execution_count": 3,
     "metadata": {},
     "output_type": "execute_result"
    }
   ],
   "source": [
    "df.head()"
   ]
  },
  {
   "cell_type": "code",
   "execution_count": 4,
   "metadata": {
    "scrolled": true
   },
   "outputs": [
    {
     "data": {
      "text/plain": [
       "APPROVED        294370\n",
       "APPROVED_RES     59359\n",
       "TEMPREG             10\n",
       "SUSPENSION           2\n",
       "REQUAL               1\n",
       "Name: CrntRgstn_st, dtype: int64"
      ]
     },
     "execution_count": 4,
     "metadata": {},
     "output_type": "execute_result"
    }
   ],
   "source": [
    "#Types with count of Current registration status\n",
    "df['CrntRgstn_st'].value_counts()"
   ]
  },
  {
   "cell_type": "code",
   "execution_count": 5,
   "metadata": {},
   "outputs": [
    {
     "data": {
      "text/plain": [
       "353742"
      ]
     },
     "execution_count": 5,
     "metadata": {},
     "output_type": "execute_result"
    }
   ],
   "source": [
    "#number of individuals\n",
    "df['Info_indvlPK'].count()"
   ]
  },
  {
   "cell_type": "code",
   "execution_count": 6,
   "metadata": {},
   "outputs": [
    {
     "data": {
      "text/plain": [
       "Y    291606\n",
       "N     62136\n",
       "Name: Info_actvAGReg, dtype: int64"
      ]
     },
     "execution_count": 6,
     "metadata": {},
     "output_type": "execute_result"
    }
   ],
   "source": [
    "#Types with count of Current registration status\n",
    "df['Info_actvAGReg'].value_counts()"
   ]
  },
  {
   "cell_type": "code",
   "execution_count": 7,
   "metadata": {},
   "outputs": [],
   "source": [
    "df['CrntRgstn_stDt'] = pd.to_datetime(df['CrntRgstn_stDt'])\n",
    "df['EmpHs_toDt'] = pd.to_datetime(df['EmpHs_toDt'])\n",
    "df['EmpHs_fromDt'] = pd.to_datetime(df['EmpHs_fromDt'])\n",
    "df['PrevRgstn_regBeginDt'] = pd.to_datetime(df['PrevRgstn_regBeginDt'])\n",
    "df['PrevRgstn_regEndDt'] = pd.to_datetime(df['PrevRgstn_regEndDt'])"
   ]
  },
  {
   "cell_type": "code",
   "execution_count": null,
   "metadata": {},
   "outputs": [],
   "source": [
    "df.info()"
   ]
  },
  {
   "cell_type": "code",
   "execution_count": null,
   "metadata": {},
   "outputs": [],
   "source": [
    "df2 = df.groupby(['CrntRgstn_stDt'], as_index=False)['Info_indvlPK'].count()\n",
    "df2.sort_values(['CrntRgstn_stDt'], ascending=False).head()"
   ]
  },
  {
   "cell_type": "markdown",
   "metadata": {},
   "source": [
    "The number of registrations have increased "
   ]
  },
  {
   "cell_type": "code",
   "execution_count": null,
   "metadata": {},
   "outputs": [],
   "source": [
    "# histogram of duration of the trip in minutes\n",
    "plt.hist('CrntRgstn_stDt', bins=100,data=df)\n",
    "plt.xlabel('Distribution of data year wise')\n",
    "plt.show()"
   ]
  },
  {
   "cell_type": "code",
   "execution_count": null,
   "metadata": {},
   "outputs": [],
   "source": []
  },
  {
   "cell_type": "code",
   "execution_count": null,
   "metadata": {},
   "outputs": [],
   "source": [
    "sec = pd.read_csv('bitcamp/Investment Adviser Firm Reports/IA_FIRM_SEC_Feed_04_11_2019.csv')"
   ]
  },
  {
   "cell_type": "code",
   "execution_count": 16,
   "metadata": {},
   "outputs": [],
   "source": [
    "df4 = pd.read_csv('input_100K_dtree.csv')"
   ]
  },
  {
   "cell_type": "code",
   "execution_count": 26,
   "metadata": {},
   "outputs": [
    {
     "data": {
      "text/plain": [
       "array(['S66', 'S65', 'S63'], dtype=object)"
      ]
     },
     "execution_count": 26,
     "metadata": {},
     "output_type": "execute_result"
    }
   ],
   "source": [
    "df4['Exm_exmCd'].unique()"
   ]
  },
  {
   "cell_type": "code",
   "execution_count": 25,
   "metadata": {},
   "outputs": [
    {
     "data": {
      "text/plain": [
       "array(['Uniform Combined State Law Examination',\n",
       "       'Uniform Investment Adviser Law Examination',\n",
       "       'Uniform Securities Agent State Law Examination'], dtype=object)"
      ]
     },
     "execution_count": 25,
     "metadata": {},
     "output_type": "execute_result"
    }
   ],
   "source": [
    "df4['Exm_exmNm'].unique()"
   ]
  },
  {
   "cell_type": "code",
   "execution_count": 24,
   "metadata": {},
   "outputs": [],
   "source": [
    "df4['DRP_hasBankrupt'] = df4['DRP_hasBankrupt'].fillna(df4['DRP_hasBankrupt'].mode()[0])\n",
    "df4['DRP_hasBond'] = df4['DRP_hasBond'].fillna(df4['DRP_hasBond'].mode()[0])\n",
    "df4['DRP_hasCivilJudc'] = df4['DRP_hasCivilJudc'].fillna(df4['DRP_hasCivilJudc'].mode()[0])\n",
    "df4['DRP_hasCriminal'] = df4['DRP_hasCriminal'].fillna(df4['DRP_hasCriminal'].mode()[0])\n",
    "df4['DRP_hasCustComp'] = df4['DRP_hasCustComp'].fillna(df4['DRP_hasCustComp'].mode()[0])\n",
    "df4['DRP_hasInvstgn'] = df4['DRP_hasInvstgn'].fillna(df4['DRP_hasInvstgn'].mode()[0])\n",
    "df4['DRP_hasJudgment'] = df4['DRP_hasJudgment'].fillna(df4['DRP_hasJudgment'].mode()[0])\n",
    "df4['DRP_hasRegAction'] = df4['DRP_hasRegAction'].fillna(df4['DRP_hasRegAction'].mode()[0])\n",
    "df4['DRP_hasTermination'] = df4['DRP_hasTermination'].fillna(df4['DRP_hasTermination'].mode()[0])\n",
    "df4['Dsgntn_dsgntnNm'] = df4['Dsgntn_dsgntnNm'].fillna(df4['Dsgntn_dsgntnNm'].mode()[0])\n",
    "df4['Exm_exmCd'] = df4['Exm_exmCd'].fillna(df4['Exm_exmCd'].mode()[0])\n",
    "df4['Exm_exmNm'] = df4['Exm_exmNm'].fillna(df4['Exm_exmNm'].mode()[0])\n"
   ]
  },
  {
   "cell_type": "code",
   "execution_count": 27,
   "metadata": {},
   "outputs": [
    {
     "data": {
      "text/plain": [
       "99999"
      ]
     },
     "execution_count": 27,
     "metadata": {},
     "output_type": "execute_result"
    }
   ],
   "source": [
    "df4.shape[0]"
   ]
  },
  {
   "cell_type": "code",
   "execution_count": 28,
   "metadata": {},
   "outputs": [],
   "source": [
    "df4.to_csv('input_100K_dtree.csv')"
   ]
  },
  {
   "cell_type": "code",
   "execution_count": 29,
   "metadata": {},
   "outputs": [
    {
     "data": {
      "text/plain": [
       "Certified Financial Planner       94368\n",
       "Chartered Financial Consultant     2915\n",
       "Chartered Financial Analyst        2259\n",
       "Personal Financial Specialist       411\n",
       "Chartered Investment Counselor       46\n",
       "Name: Dsgntn_dsgntnNm, dtype: int64"
      ]
     },
     "execution_count": 29,
     "metadata": {},
     "output_type": "execute_result"
    }
   ],
   "source": [
    "df4['Dsgntn_dsgntnNm'].value_counts()"
   ]
  }
 ],
 "metadata": {
  "kernelspec": {
   "display_name": "Python 3",
   "language": "python",
   "name": "python3"
  },
  "language_info": {
   "codemirror_mode": {
    "name": "ipython",
    "version": 3
   },
   "file_extension": ".py",
   "mimetype": "text/x-python",
   "name": "python",
   "nbconvert_exporter": "python",
   "pygments_lexer": "ipython3",
   "version": "3.7.0"
  }
 },
 "nbformat": 4,
 "nbformat_minor": 2
}
